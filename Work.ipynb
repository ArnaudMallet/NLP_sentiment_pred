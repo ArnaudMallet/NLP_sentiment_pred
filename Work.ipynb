{
 "cells": [
  {
   "cell_type": "code",
   "execution_count": 103,
   "id": "3c7f3b78",
   "metadata": {},
   "outputs": [],
   "source": [
    "import os, os.path\n",
    "import pandas as pd\n",
    "import numpy as np, os \n",
    "from tqdm import tqdm\n",
    "from collections import Counter\n",
    "\n",
    "from torch.utils.data import Dataset, DataLoader\n",
    "import torch\n"
   ]
  },
  {
   "cell_type": "code",
   "execution_count": 56,
   "id": "3b487444",
   "metadata": {},
   "outputs": [
    {
     "data": {
      "text/plain": [
       "15594"
      ]
     },
     "execution_count": 56,
     "metadata": {},
     "output_type": "execute_result"
    }
   ],
   "source": [
    "list_txt = os.listdir(\"train\") # dir is your directory path\n",
    "number_files = len(list_txt)\n",
    "number_files"
   ]
  },
  {
   "cell_type": "code",
   "execution_count": 57,
   "id": "68828d6c",
   "metadata": {},
   "outputs": [
    {
     "data": {
      "text/plain": [
       "list"
      ]
     },
     "execution_count": 57,
     "metadata": {},
     "output_type": "execute_result"
    }
   ],
   "source": [
    "type(list_txt)"
   ]
  },
  {
   "cell_type": "code",
   "execution_count": 61,
   "id": "85226b76",
   "metadata": {},
   "outputs": [
    {
     "data": {
      "text/plain": [
       "6804"
      ]
     },
     "execution_count": 61,
     "metadata": {},
     "output_type": "execute_result"
    }
   ],
   "source": [
    "index_txt = list_txt.index('0A0AA9C21C5D.txt')\n",
    "index_txt                   "
   ]
  },
  {
   "cell_type": "code",
   "execution_count": 67,
   "id": "85a1b7ef",
   "metadata": {},
   "outputs": [
    {
     "data": {
      "text/plain": [
       "'/home/arno/Documents/1_Study/Project/NLP_sentiment_pred'"
      ]
     },
     "execution_count": 67,
     "metadata": {},
     "output_type": "execute_result"
    }
   ],
   "source": [
    "os.getcwd()"
   ]
  },
  {
   "cell_type": "code",
   "execution_count": 79,
   "id": "943ae204",
   "metadata": {},
   "outputs": [],
   "source": [
    "def open_text(text):\n",
    "    with open('train/'+text+'.txt') as f:\n",
    "        text = f.read()\n",
    "    # print out the first 100 characters\n",
    "    return text"
   ]
  },
  {
   "cell_type": "markdown",
   "id": "2012ca60",
   "metadata": {},
   "source": [
    "# NLP Solution"
   ]
  },
  {
   "cell_type": "code",
   "execution_count": 80,
   "id": "7749de63",
   "metadata": {},
   "outputs": [],
   "source": [
    "train_csv = pd.read_csv('train.csv')"
   ]
  },
  {
   "cell_type": "code",
   "execution_count": 81,
   "id": "da9d0cc5",
   "metadata": {},
   "outputs": [
    {
     "name": "stdout",
     "output_type": "stream",
     "text": [
      "(144293, 8)\n"
     ]
    },
    {
     "data": {
      "text/html": [
       "<div>\n",
       "<style scoped>\n",
       "    .dataframe tbody tr th:only-of-type {\n",
       "        vertical-align: middle;\n",
       "    }\n",
       "\n",
       "    .dataframe tbody tr th {\n",
       "        vertical-align: top;\n",
       "    }\n",
       "\n",
       "    .dataframe thead th {\n",
       "        text-align: right;\n",
       "    }\n",
       "</style>\n",
       "<table border=\"1\" class=\"dataframe\">\n",
       "  <thead>\n",
       "    <tr style=\"text-align: right;\">\n",
       "      <th></th>\n",
       "      <th>id</th>\n",
       "      <th>discourse_id</th>\n",
       "      <th>discourse_start</th>\n",
       "      <th>discourse_end</th>\n",
       "      <th>discourse_text</th>\n",
       "      <th>discourse_type</th>\n",
       "      <th>discourse_type_num</th>\n",
       "      <th>predictionstring</th>\n",
       "    </tr>\n",
       "  </thead>\n",
       "  <tbody>\n",
       "    <tr>\n",
       "      <th>0</th>\n",
       "      <td>423A1CA112E2</td>\n",
       "      <td>1.622628e+12</td>\n",
       "      <td>8.0</td>\n",
       "      <td>229.0</td>\n",
       "      <td>Modern humans today are always on their phone....</td>\n",
       "      <td>Lead</td>\n",
       "      <td>Lead 1</td>\n",
       "      <td>1 2 3 4 5 6 7 8 9 10 11 12 13 14 15 16 17 18 1...</td>\n",
       "    </tr>\n",
       "    <tr>\n",
       "      <th>1</th>\n",
       "      <td>423A1CA112E2</td>\n",
       "      <td>1.622628e+12</td>\n",
       "      <td>230.0</td>\n",
       "      <td>312.0</td>\n",
       "      <td>They are some really bad consequences when stu...</td>\n",
       "      <td>Position</td>\n",
       "      <td>Position 1</td>\n",
       "      <td>45 46 47 48 49 50 51 52 53 54 55 56 57 58 59</td>\n",
       "    </tr>\n",
       "    <tr>\n",
       "      <th>2</th>\n",
       "      <td>423A1CA112E2</td>\n",
       "      <td>1.622628e+12</td>\n",
       "      <td>313.0</td>\n",
       "      <td>401.0</td>\n",
       "      <td>Some certain areas in the United States ban ph...</td>\n",
       "      <td>Evidence</td>\n",
       "      <td>Evidence 1</td>\n",
       "      <td>60 61 62 63 64 65 66 67 68 69 70 71 72 73 74 75</td>\n",
       "    </tr>\n",
       "    <tr>\n",
       "      <th>3</th>\n",
       "      <td>423A1CA112E2</td>\n",
       "      <td>1.622628e+12</td>\n",
       "      <td>402.0</td>\n",
       "      <td>758.0</td>\n",
       "      <td>When people have phones, they know about certa...</td>\n",
       "      <td>Evidence</td>\n",
       "      <td>Evidence 2</td>\n",
       "      <td>76 77 78 79 80 81 82 83 84 85 86 87 88 89 90 9...</td>\n",
       "    </tr>\n",
       "    <tr>\n",
       "      <th>4</th>\n",
       "      <td>423A1CA112E2</td>\n",
       "      <td>1.622628e+12</td>\n",
       "      <td>759.0</td>\n",
       "      <td>886.0</td>\n",
       "      <td>Driving is one of the way how to get around. P...</td>\n",
       "      <td>Claim</td>\n",
       "      <td>Claim 1</td>\n",
       "      <td>139 140 141 142 143 144 145 146 147 148 149 15...</td>\n",
       "    </tr>\n",
       "  </tbody>\n",
       "</table>\n",
       "</div>"
      ],
      "text/plain": [
       "             id  discourse_id  discourse_start  discourse_end  \\\n",
       "0  423A1CA112E2  1.622628e+12              8.0          229.0   \n",
       "1  423A1CA112E2  1.622628e+12            230.0          312.0   \n",
       "2  423A1CA112E2  1.622628e+12            313.0          401.0   \n",
       "3  423A1CA112E2  1.622628e+12            402.0          758.0   \n",
       "4  423A1CA112E2  1.622628e+12            759.0          886.0   \n",
       "\n",
       "                                      discourse_text discourse_type  \\\n",
       "0  Modern humans today are always on their phone....           Lead   \n",
       "1  They are some really bad consequences when stu...       Position   \n",
       "2  Some certain areas in the United States ban ph...       Evidence   \n",
       "3  When people have phones, they know about certa...       Evidence   \n",
       "4  Driving is one of the way how to get around. P...          Claim   \n",
       "\n",
       "  discourse_type_num                                   predictionstring  \n",
       "0             Lead 1  1 2 3 4 5 6 7 8 9 10 11 12 13 14 15 16 17 18 1...  \n",
       "1         Position 1       45 46 47 48 49 50 51 52 53 54 55 56 57 58 59  \n",
       "2         Evidence 1    60 61 62 63 64 65 66 67 68 69 70 71 72 73 74 75  \n",
       "3         Evidence 2  76 77 78 79 80 81 82 83 84 85 86 87 88 89 90 9...  \n",
       "4            Claim 1  139 140 141 142 143 144 145 146 147 148 149 15...  "
      ]
     },
     "execution_count": 81,
     "metadata": {},
     "output_type": "execute_result"
    }
   ],
   "source": [
    "print(train_csv.shape )\n",
    "train_csv.head()"
   ]
  },
  {
   "cell_type": "code",
   "execution_count": 82,
   "id": "8235f225",
   "metadata": {
    "scrolled": true
   },
   "outputs": [
    {
     "data": {
      "text/plain": [
       "id                                                         423A1CA112E2\n",
       "discourse_id                                            1622627660524.0\n",
       "discourse_start                                                     8.0\n",
       "discourse_end                                                     229.0\n",
       "discourse_text        Modern humans today are always on their phone....\n",
       "discourse_type                                                     Lead\n",
       "discourse_type_num                                               Lead 1\n",
       "predictionstring      1 2 3 4 5 6 7 8 9 10 11 12 13 14 15 16 17 18 1...\n",
       "Name: 0, dtype: object"
      ]
     },
     "execution_count": 82,
     "metadata": {},
     "output_type": "execute_result"
    }
   ],
   "source": [
    "train_csv.iloc[0]"
   ]
  },
  {
   "cell_type": "code",
   "execution_count": 101,
   "id": "40c3efc1",
   "metadata": {},
   "outputs": [
    {
     "data": {
      "text/plain": [
       "'1 2 3 4 5 6 7 8 9 10 11 12 13 14 15 16 17 18 19 20 21 22 23 24 25 26 27 28 29 30 31 32 33 34 35 36 37 38 39 40 41 42 43 44'"
      ]
     },
     "execution_count": 101,
     "metadata": {},
     "output_type": "execute_result"
    }
   ],
   "source": [
    "res_text = open_text(train_csv.iloc[0][0])\n",
    "predic_string = train_csv.iloc[0][7]"
   ]
  },
  {
   "cell_type": "code",
   "execution_count": 145,
   "id": "ca01fa9e",
   "metadata": {},
   "outputs": [],
   "source": [
    "# list of counters\n",
    "lead_counts = Counter()\n",
    "position_counts = Counter()\n",
    "claim_counts = Counter()\n",
    "counterclaim_counts = Counter()\n",
    "rebuttal_counts = Counter()\n",
    "evidence_counts = Counter()\n",
    "conclustate_counts = Counter()"
   ]
  },
  {
   "cell_type": "code",
   "execution_count": 147,
   "id": "abcd3798",
   "metadata": {},
   "outputs": [
    {
     "data": {
      "text/plain": [
       "'Modern humans today are always on their phone. They are always on their phone more than 5 hours a day no stop .All they do is text back and forward and just have group Chats on social media. They even do it while driving.'"
      ]
     },
     "execution_count": 147,
     "metadata": {},
     "output_type": "execute_result"
    }
   ],
   "source": [
    "speech"
   ]
  },
  {
   "cell_type": "code",
   "execution_count": 148,
   "id": "ee610bb3",
   "metadata": {},
   "outputs": [],
   "source": [
    "speech = res_text[8:229]\n",
    "for ind_pred in predic_string.split(' '):\n",
    "    ind_pred_int = int(ind_pred)\n",
    "    speech_split = speech.split(' ')\n",
    "    lead_counts[speech_split[ind_pred_int-1]] +=1\n"
   ]
  },
  {
   "cell_type": "code",
   "execution_count": 149,
   "id": "7a568af9",
   "metadata": {},
   "outputs": [
    {
     "data": {
      "text/plain": [
       "Counter({'Modern': 1,\n",
       "         'humans': 1,\n",
       "         'today': 1,\n",
       "         'are': 2,\n",
       "         'always': 2,\n",
       "         'on': 3,\n",
       "         'their': 2,\n",
       "         'phone.': 1,\n",
       "         'They': 2,\n",
       "         'phone': 1,\n",
       "         'more': 1,\n",
       "         'than': 1,\n",
       "         '5': 1,\n",
       "         'hours': 1,\n",
       "         'a': 1,\n",
       "         'day': 1,\n",
       "         'no': 1,\n",
       "         'stop': 1,\n",
       "         '.All': 1,\n",
       "         'they': 1,\n",
       "         'do': 2,\n",
       "         'is': 1,\n",
       "         'text': 1,\n",
       "         'back': 1,\n",
       "         'and': 2,\n",
       "         'forward': 1,\n",
       "         'just': 1,\n",
       "         'have': 1,\n",
       "         'group': 1,\n",
       "         'Chats': 1,\n",
       "         'social': 1,\n",
       "         'media.': 1,\n",
       "         'even': 1,\n",
       "         'it': 1,\n",
       "         'while': 1,\n",
       "         'driving.': 1})"
      ]
     },
     "execution_count": 149,
     "metadata": {},
     "output_type": "execute_result"
    }
   ],
   "source": [
    "lead_counts"
   ]
  },
  {
   "cell_type": "code",
   "execution_count": 99,
   "id": "fc2d0a77",
   "metadata": {},
   "outputs": [
    {
     "data": {
      "text/plain": [
       "'Modern'"
      ]
     },
     "execution_count": 99,
     "metadata": {},
     "output_type": "execute_result"
    }
   ],
   "source": [
    "speech.split()[0]"
   ]
  },
  {
   "cell_type": "code",
   "execution_count": null,
   "id": "958f0d96",
   "metadata": {},
   "outputs": [],
   "source": []
  },
  {
   "cell_type": "code",
   "execution_count": 10,
   "id": "77e91e4f",
   "metadata": {},
   "outputs": [
    {
     "data": {
      "text/html": [
       "<div>\n",
       "<style scoped>\n",
       "    .dataframe tbody tr th:only-of-type {\n",
       "        vertical-align: middle;\n",
       "    }\n",
       "\n",
       "    .dataframe tbody tr th {\n",
       "        vertical-align: top;\n",
       "    }\n",
       "\n",
       "    .dataframe thead th {\n",
       "        text-align: right;\n",
       "    }\n",
       "</style>\n",
       "<table border=\"1\" class=\"dataframe\">\n",
       "  <thead>\n",
       "    <tr style=\"text-align: right;\">\n",
       "      <th></th>\n",
       "      <th>id</th>\n",
       "      <th>text</th>\n",
       "    </tr>\n",
       "  </thead>\n",
       "  <tbody>\n",
       "    <tr>\n",
       "      <th>0</th>\n",
       "      <td>D46BCB48440A</td>\n",
       "      <td>When people ask for advice,they sometimes talk...</td>\n",
       "    </tr>\n",
       "    <tr>\n",
       "      <th>1</th>\n",
       "      <td>18409261F5C2</td>\n",
       "      <td>80% of Americans believe seeking multiple opin...</td>\n",
       "    </tr>\n",
       "    <tr>\n",
       "      <th>2</th>\n",
       "      <td>D72CB1C11673</td>\n",
       "      <td>Making choices in life can be very difficult. ...</td>\n",
       "    </tr>\n",
       "    <tr>\n",
       "      <th>3</th>\n",
       "      <td>DF920E0A7337</td>\n",
       "      <td>Have you ever asked more than one person for h...</td>\n",
       "    </tr>\n",
       "    <tr>\n",
       "      <th>4</th>\n",
       "      <td>0FB0700DAF44</td>\n",
       "      <td>During a group project, have you ever asked a ...</td>\n",
       "    </tr>\n",
       "  </tbody>\n",
       "</table>\n",
       "</div>"
      ],
      "text/plain": [
       "             id                                               text\n",
       "0  D46BCB48440A  When people ask for advice,they sometimes talk...\n",
       "1  18409261F5C2  80% of Americans believe seeking multiple opin...\n",
       "2  D72CB1C11673  Making choices in life can be very difficult. ...\n",
       "3  DF920E0A7337  Have you ever asked more than one person for h...\n",
       "4  0FB0700DAF44  During a group project, have you ever asked a ..."
      ]
     },
     "execution_count": 10,
     "metadata": {},
     "output_type": "execute_result"
    }
   ],
   "source": [
    "test_names, test_texts = [], []\n",
    "for f in os.listdir('test'):\n",
    "    test_names.append(f.replace('.txt', ''))\n",
    "    test_texts.append(open('test/' + f, 'r').read())\n",
    "test_texts = pd.DataFrame({'id': test_names, 'text': test_texts})\n",
    "test_texts.head()"
   ]
  },
  {
   "cell_type": "code",
   "execution_count": null,
   "id": "c8208dc4",
   "metadata": {},
   "outputs": [],
   "source": []
  },
  {
   "cell_type": "code",
   "execution_count": null,
   "id": "aedc043f",
   "metadata": {},
   "outputs": [],
   "source": []
  }
 ],
 "metadata": {
  "kernelspec": {
   "display_name": "Python 3",
   "language": "python",
   "name": "python3"
  },
  "language_info": {
   "codemirror_mode": {
    "name": "ipython",
    "version": 3
   },
   "file_extension": ".py",
   "mimetype": "text/x-python",
   "name": "python",
   "nbconvert_exporter": "python",
   "pygments_lexer": "ipython3",
   "version": "3.9.7"
  }
 },
 "nbformat": 4,
 "nbformat_minor": 5
}
