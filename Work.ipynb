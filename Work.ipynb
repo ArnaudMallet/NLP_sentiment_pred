{
 "cells": [
  {
   "cell_type": "code",
   "execution_count": 1,
   "id": "3c7f3b78",
   "metadata": {},
   "outputs": [],
   "source": [
    "import os, os.path\n",
    "import pandas as pd\n",
    "import numpy as np, os \n",
    "from tqdm import tqdm\n",
    "from collections import Counter\n",
    "\n",
    "from torch.utils.data import Dataset, DataLoader\n",
    "import torch\n"
   ]
  },
  {
   "cell_type": "code",
   "execution_count": 2,
   "id": "3b487444",
   "metadata": {},
   "outputs": [
    {
     "data": {
      "text/plain": [
       "15594"
      ]
     },
     "execution_count": 2,
     "metadata": {},
     "output_type": "execute_result"
    }
   ],
   "source": [
    "list_txt = os.listdir(\"train\") # dir is your directory path\n",
    "number_files = len(list_txt)\n",
    "number_files"
   ]
  },
  {
   "cell_type": "code",
   "execution_count": 3,
   "id": "bb831071",
   "metadata": {},
   "outputs": [
    {
     "data": {
      "text/plain": [
       "list"
      ]
     },
     "execution_count": 3,
     "metadata": {},
     "output_type": "execute_result"
    }
   ],
   "source": [
    "type(list_txt)"
   ]
  },
  {
   "cell_type": "code",
   "execution_count": 4,
   "id": "b3082414",
   "metadata": {},
   "outputs": [
    {
     "data": {
      "text/plain": [
       "6804"
      ]
     },
     "execution_count": 4,
     "metadata": {},
     "output_type": "execute_result"
    }
   ],
   "source": [
    "index_txt = list_txt.index('0A0AA9C21C5D.txt')\n",
    "index_txt                   "
   ]
  },
  {
   "cell_type": "code",
   "execution_count": 5,
   "id": "3ab1d890",
   "metadata": {},
   "outputs": [
    {
     "data": {
      "text/plain": [
       "'/home/arno/Documents/1_Study/Project/NLP_sentiment_pred'"
      ]
     },
     "execution_count": 5,
     "metadata": {},
     "output_type": "execute_result"
    }
   ],
   "source": [
    "os.getcwd()"
   ]
  },
  {
   "cell_type": "code",
   "execution_count": 6,
   "id": "943ae204",
   "metadata": {},
   "outputs": [],
   "source": [
    "def open_text(text):\n",
    "    with open('train/'+text+'.txt') as f:\n",
    "        text = f.read()\n",
    "    # print out the first 100 characters\n",
    "    return text"
   ]
  },
  {
   "cell_type": "markdown",
   "id": "82c55811",
   "metadata": {},
   "source": [
    "# NLP Solution"
   ]
  },
  {
   "cell_type": "code",
   "execution_count": 7,
   "id": "7749de63",
   "metadata": {},
   "outputs": [],
   "source": [
    "train_csv = pd.read_csv('train.csv')"
   ]
  },
  {
   "cell_type": "code",
   "execution_count": 8,
   "id": "e974901e",
   "metadata": {},
   "outputs": [
    {
     "name": "stdout",
     "output_type": "stream",
     "text": [
      "(144293, 8)\n"
     ]
    },
    {
     "data": {
      "text/html": [
       "<div>\n",
       "<style scoped>\n",
       "    .dataframe tbody tr th:only-of-type {\n",
       "        vertical-align: middle;\n",
       "    }\n",
       "\n",
       "    .dataframe tbody tr th {\n",
       "        vertical-align: top;\n",
       "    }\n",
       "\n",
       "    .dataframe thead th {\n",
       "        text-align: right;\n",
       "    }\n",
       "</style>\n",
       "<table border=\"1\" class=\"dataframe\">\n",
       "  <thead>\n",
       "    <tr style=\"text-align: right;\">\n",
       "      <th></th>\n",
       "      <th>id</th>\n",
       "      <th>discourse_id</th>\n",
       "      <th>discourse_start</th>\n",
       "      <th>discourse_end</th>\n",
       "      <th>discourse_text</th>\n",
       "      <th>discourse_type</th>\n",
       "      <th>discourse_type_num</th>\n",
       "      <th>predictionstring</th>\n",
       "    </tr>\n",
       "  </thead>\n",
       "  <tbody>\n",
       "    <tr>\n",
       "      <th>0</th>\n",
       "      <td>423A1CA112E2</td>\n",
       "      <td>1.622628e+12</td>\n",
       "      <td>8.0</td>\n",
       "      <td>229.0</td>\n",
       "      <td>Modern humans today are always on their phone....</td>\n",
       "      <td>Lead</td>\n",
       "      <td>Lead 1</td>\n",
       "      <td>1 2 3 4 5 6 7 8 9 10 11 12 13 14 15 16 17 18 1...</td>\n",
       "    </tr>\n",
       "    <tr>\n",
       "      <th>1</th>\n",
       "      <td>423A1CA112E2</td>\n",
       "      <td>1.622628e+12</td>\n",
       "      <td>230.0</td>\n",
       "      <td>312.0</td>\n",
       "      <td>They are some really bad consequences when stu...</td>\n",
       "      <td>Position</td>\n",
       "      <td>Position 1</td>\n",
       "      <td>45 46 47 48 49 50 51 52 53 54 55 56 57 58 59</td>\n",
       "    </tr>\n",
       "    <tr>\n",
       "      <th>2</th>\n",
       "      <td>423A1CA112E2</td>\n",
       "      <td>1.622628e+12</td>\n",
       "      <td>313.0</td>\n",
       "      <td>401.0</td>\n",
       "      <td>Some certain areas in the United States ban ph...</td>\n",
       "      <td>Evidence</td>\n",
       "      <td>Evidence 1</td>\n",
       "      <td>60 61 62 63 64 65 66 67 68 69 70 71 72 73 74 75</td>\n",
       "    </tr>\n",
       "    <tr>\n",
       "      <th>3</th>\n",
       "      <td>423A1CA112E2</td>\n",
       "      <td>1.622628e+12</td>\n",
       "      <td>402.0</td>\n",
       "      <td>758.0</td>\n",
       "      <td>When people have phones, they know about certa...</td>\n",
       "      <td>Evidence</td>\n",
       "      <td>Evidence 2</td>\n",
       "      <td>76 77 78 79 80 81 82 83 84 85 86 87 88 89 90 9...</td>\n",
       "    </tr>\n",
       "    <tr>\n",
       "      <th>4</th>\n",
       "      <td>423A1CA112E2</td>\n",
       "      <td>1.622628e+12</td>\n",
       "      <td>759.0</td>\n",
       "      <td>886.0</td>\n",
       "      <td>Driving is one of the way how to get around. P...</td>\n",
       "      <td>Claim</td>\n",
       "      <td>Claim 1</td>\n",
       "      <td>139 140 141 142 143 144 145 146 147 148 149 15...</td>\n",
       "    </tr>\n",
       "  </tbody>\n",
       "</table>\n",
       "</div>"
      ],
      "text/plain": [
       "             id  discourse_id  discourse_start  discourse_end  \\\n",
       "0  423A1CA112E2  1.622628e+12              8.0          229.0   \n",
       "1  423A1CA112E2  1.622628e+12            230.0          312.0   \n",
       "2  423A1CA112E2  1.622628e+12            313.0          401.0   \n",
       "3  423A1CA112E2  1.622628e+12            402.0          758.0   \n",
       "4  423A1CA112E2  1.622628e+12            759.0          886.0   \n",
       "\n",
       "                                      discourse_text discourse_type  \\\n",
       "0  Modern humans today are always on their phone....           Lead   \n",
       "1  They are some really bad consequences when stu...       Position   \n",
       "2  Some certain areas in the United States ban ph...       Evidence   \n",
       "3  When people have phones, they know about certa...       Evidence   \n",
       "4  Driving is one of the way how to get around. P...          Claim   \n",
       "\n",
       "  discourse_type_num                                   predictionstring  \n",
       "0             Lead 1  1 2 3 4 5 6 7 8 9 10 11 12 13 14 15 16 17 18 1...  \n",
       "1         Position 1       45 46 47 48 49 50 51 52 53 54 55 56 57 58 59  \n",
       "2         Evidence 1    60 61 62 63 64 65 66 67 68 69 70 71 72 73 74 75  \n",
       "3         Evidence 2  76 77 78 79 80 81 82 83 84 85 86 87 88 89 90 9...  \n",
       "4            Claim 1  139 140 141 142 143 144 145 146 147 148 149 15...  "
      ]
     },
     "execution_count": 8,
     "metadata": {},
     "output_type": "execute_result"
    }
   ],
   "source": [
    "print(train_csv.shape )\n",
    "train_csv.head()"
   ]
  },
  {
   "cell_type": "code",
   "execution_count": 9,
   "id": "a83c994a",
   "metadata": {
    "scrolled": true
   },
   "outputs": [
    {
     "data": {
      "text/plain": [
       "id                                                         423A1CA112E2\n",
       "discourse_id                                            1622627660524.0\n",
       "discourse_start                                                     8.0\n",
       "discourse_end                                                     229.0\n",
       "discourse_text        Modern humans today are always on their phone....\n",
       "discourse_type                                                     Lead\n",
       "discourse_type_num                                               Lead 1\n",
       "predictionstring      1 2 3 4 5 6 7 8 9 10 11 12 13 14 15 16 17 18 1...\n",
       "Name: 0, dtype: object"
      ]
     },
     "execution_count": 9,
     "metadata": {},
     "output_type": "execute_result"
    }
   ],
   "source": [
    "train_csv.iloc[0]"
   ]
  },
  {
   "cell_type": "code",
   "execution_count": 10,
   "id": "18bea826",
   "metadata": {},
   "outputs": [],
   "source": [
    "res_text = open_text(train_csv.iloc[0][0])\n",
    "predic_string = train_csv.iloc[0][7]"
   ]
  },
  {
   "cell_type": "code",
   "execution_count": 92,
   "id": "cf7cb1c0",
   "metadata": {},
   "outputs": [],
   "source": [
    "# list of counters\n",
    "lead_counts = Counter()\n",
    "position_counts = Counter()\n",
    "claim_counts = Counter()\n",
    "counterclaim_counts = Counter()\n",
    "rebuttal_counts = Counter()\n",
    "evidence_counts = Counter()\n",
    "conclustate_counts = Counter()"
   ]
  },
  {
   "cell_type": "code",
   "execution_count": 93,
   "id": "8ccffc3c",
   "metadata": {},
   "outputs": [],
   "source": [
    "speech = res_text[8:229]\n",
    "for ind_pred in predic_string.split(' '):\n",
    "    ind_pred_int = int(ind_pred)\n",
    "    speech_split = speech.split(' ')\n",
    "    lead_counts[speech_split[ind_pred_int-1]] +=1\n"
   ]
  },
  {
   "cell_type": "code",
   "execution_count": 14,
   "id": "aec87820",
   "metadata": {},
   "outputs": [
    {
     "data": {
      "text/plain": [
       "Counter({'Modern': 1,\n",
       "         'humans': 1,\n",
       "         'today': 1,\n",
       "         'are': 2,\n",
       "         'always': 2,\n",
       "         'on': 3,\n",
       "         'their': 2,\n",
       "         'phone.': 1,\n",
       "         'They': 2,\n",
       "         'phone': 1,\n",
       "         'more': 1,\n",
       "         'than': 1,\n",
       "         '5': 1,\n",
       "         'hours': 1,\n",
       "         'a': 1,\n",
       "         'day': 1,\n",
       "         'no': 1,\n",
       "         'stop': 1,\n",
       "         '.All': 1,\n",
       "         'they': 1,\n",
       "         'do': 2,\n",
       "         'is': 1,\n",
       "         'text': 1,\n",
       "         'back': 1,\n",
       "         'and': 2,\n",
       "         'forward': 1,\n",
       "         'just': 1,\n",
       "         'have': 1,\n",
       "         'group': 1,\n",
       "         'Chats': 1,\n",
       "         'social': 1,\n",
       "         'media.': 1,\n",
       "         'even': 1,\n",
       "         'it': 1,\n",
       "         'while': 1,\n",
       "         'driving.': 1})"
      ]
     },
     "execution_count": 14,
     "metadata": {},
     "output_type": "execute_result"
    }
   ],
   "source": [
    "lead_counts"
   ]
  },
  {
   "cell_type": "code",
   "execution_count": 15,
   "id": "413805e2",
   "metadata": {},
   "outputs": [
    {
     "data": {
      "text/plain": [
       "'Modern'"
      ]
     },
     "execution_count": 15,
     "metadata": {},
     "output_type": "execute_result"
    }
   ],
   "source": [
    "speech.split()[0]"
   ]
  },
  {
   "cell_type": "code",
   "execution_count": 16,
   "id": "77e91e4f",
   "metadata": {},
   "outputs": [
    {
     "data": {
      "text/html": [
       "<div>\n",
       "<style scoped>\n",
       "    .dataframe tbody tr th:only-of-type {\n",
       "        vertical-align: middle;\n",
       "    }\n",
       "\n",
       "    .dataframe tbody tr th {\n",
       "        vertical-align: top;\n",
       "    }\n",
       "\n",
       "    .dataframe thead th {\n",
       "        text-align: right;\n",
       "    }\n",
       "</style>\n",
       "<table border=\"1\" class=\"dataframe\">\n",
       "  <thead>\n",
       "    <tr style=\"text-align: right;\">\n",
       "      <th></th>\n",
       "      <th>id</th>\n",
       "      <th>text</th>\n",
       "    </tr>\n",
       "  </thead>\n",
       "  <tbody>\n",
       "    <tr>\n",
       "      <th>0</th>\n",
       "      <td>D46BCB48440A</td>\n",
       "      <td>When people ask for advice,they sometimes talk...</td>\n",
       "    </tr>\n",
       "    <tr>\n",
       "      <th>1</th>\n",
       "      <td>18409261F5C2</td>\n",
       "      <td>80% of Americans believe seeking multiple opin...</td>\n",
       "    </tr>\n",
       "    <tr>\n",
       "      <th>2</th>\n",
       "      <td>D72CB1C11673</td>\n",
       "      <td>Making choices in life can be very difficult. ...</td>\n",
       "    </tr>\n",
       "    <tr>\n",
       "      <th>3</th>\n",
       "      <td>DF920E0A7337</td>\n",
       "      <td>Have you ever asked more than one person for h...</td>\n",
       "    </tr>\n",
       "    <tr>\n",
       "      <th>4</th>\n",
       "      <td>0FB0700DAF44</td>\n",
       "      <td>During a group project, have you ever asked a ...</td>\n",
       "    </tr>\n",
       "  </tbody>\n",
       "</table>\n",
       "</div>"
      ],
      "text/plain": [
       "             id                                               text\n",
       "0  D46BCB48440A  When people ask for advice,they sometimes talk...\n",
       "1  18409261F5C2  80% of Americans believe seeking multiple opin...\n",
       "2  D72CB1C11673  Making choices in life can be very difficult. ...\n",
       "3  DF920E0A7337  Have you ever asked more than one person for h...\n",
       "4  0FB0700DAF44  During a group project, have you ever asked a ..."
      ]
     },
     "execution_count": 16,
     "metadata": {},
     "output_type": "execute_result"
    }
   ],
   "source": [
    "test_names, test_texts = [], []\n",
    "for f in os.listdir('test'):\n",
    "    test_names.append(f.replace('.txt', ''))\n",
    "    test_texts.append(open('test/' + f, 'r').read())\n",
    "test_texts = pd.DataFrame({'id': test_names, 'text': test_texts})\n",
    "test_texts.head()"
   ]
  },
  {
   "cell_type": "markdown",
   "id": "fe35ad64",
   "metadata": {},
   "source": [
    "# Train CSV review and creation of counters\n"
   ]
  },
  {
   "cell_type": "code",
   "execution_count": 107,
   "id": "aedc043f",
   "metadata": {},
   "outputs": [
    {
     "data": {
      "text/html": [
       "<div>\n",
       "<style scoped>\n",
       "    .dataframe tbody tr th:only-of-type {\n",
       "        vertical-align: middle;\n",
       "    }\n",
       "\n",
       "    .dataframe tbody tr th {\n",
       "        vertical-align: top;\n",
       "    }\n",
       "\n",
       "    .dataframe thead th {\n",
       "        text-align: right;\n",
       "    }\n",
       "</style>\n",
       "<table border=\"1\" class=\"dataframe\">\n",
       "  <thead>\n",
       "    <tr style=\"text-align: right;\">\n",
       "      <th></th>\n",
       "      <th>id</th>\n",
       "      <th>discourse_id</th>\n",
       "      <th>discourse_start</th>\n",
       "      <th>discourse_end</th>\n",
       "      <th>discourse_text</th>\n",
       "      <th>discourse_type</th>\n",
       "      <th>discourse_type_num</th>\n",
       "      <th>predictionstring</th>\n",
       "    </tr>\n",
       "  </thead>\n",
       "  <tbody>\n",
       "    <tr>\n",
       "      <th>10</th>\n",
       "      <td>A8445CABFECE</td>\n",
       "      <td>1.622576e+12</td>\n",
       "      <td>18.0</td>\n",
       "      <td>85.0</td>\n",
       "      <td>Drivers should not be able to use phones while...</td>\n",
       "      <td>Position</td>\n",
       "      <td>Position 1</td>\n",
       "      <td>3 4 5 6 7 8 9 10 11 12 13 14</td>\n",
       "    </tr>\n",
       "    <tr>\n",
       "      <th>11</th>\n",
       "      <td>A8445CABFECE</td>\n",
       "      <td>1.622576e+12</td>\n",
       "      <td>86.0</td>\n",
       "      <td>202.0</td>\n",
       "      <td>Drivers who used their phone while operating a...</td>\n",
       "      <td>Claim</td>\n",
       "      <td>Claim 1</td>\n",
       "      <td>15 16 17 18 19 20 21 22 23 24 25 26 27 28 29 3...</td>\n",
       "    </tr>\n",
       "    <tr>\n",
       "      <th>12</th>\n",
       "      <td>A8445CABFECE</td>\n",
       "      <td>1.622576e+12</td>\n",
       "      <td>203.0</td>\n",
       "      <td>1030.0</td>\n",
       "      <td>According to an article by the Edgar Snyder Fi...</td>\n",
       "      <td>Evidence</td>\n",
       "      <td>Evidence 1</td>\n",
       "      <td>36 37 38 39 40 41 42 43 44 45 46 47 48 49 50 5...</td>\n",
       "    </tr>\n",
       "    <tr>\n",
       "      <th>13</th>\n",
       "      <td>A8445CABFECE</td>\n",
       "      <td>1.622576e+12</td>\n",
       "      <td>1031.0</td>\n",
       "      <td>1243.0</td>\n",
       "      <td>In conclusion, drivers should not able to work...</td>\n",
       "      <td>Concluding Statement</td>\n",
       "      <td>Concluding Statement 1</td>\n",
       "      <td>177 178 179 180 181 182 183 184 185 186 187 18...</td>\n",
       "    </tr>\n",
       "    <tr>\n",
       "      <th>14</th>\n",
       "      <td>6B4F7A0165B9</td>\n",
       "      <td>1.622644e+12</td>\n",
       "      <td>36.0</td>\n",
       "      <td>512.0</td>\n",
       "      <td>The ability to stay connected to people we kno...</td>\n",
       "      <td>Lead</td>\n",
       "      <td>Lead 1</td>\n",
       "      <td>5 6 7 8 9 10 11 12 13 14 15 16 17 18 19 20 21 ...</td>\n",
       "    </tr>\n",
       "    <tr>\n",
       "      <th>15</th>\n",
       "      <td>6B4F7A0165B9</td>\n",
       "      <td>1.622644e+12</td>\n",
       "      <td>513.0</td>\n",
       "      <td>593.0</td>\n",
       "      <td>However, this device is taken to areas that i...</td>\n",
       "      <td>Position</td>\n",
       "      <td>Position 1</td>\n",
       "      <td>92 93 94 95 96 97 98 99 100 101 102 103 104</td>\n",
       "    </tr>\n",
       "    <tr>\n",
       "      <th>16</th>\n",
       "      <td>6B4F7A0165B9</td>\n",
       "      <td>1.622644e+12</td>\n",
       "      <td>594.0</td>\n",
       "      <td>726.0</td>\n",
       "      <td>Within a vehicle capable of traveling upwards ...</td>\n",
       "      <td>Claim</td>\n",
       "      <td>Claim 1</td>\n",
       "      <td>105 106 107 108 109 110 111 112 113 114 115 11...</td>\n",
       "    </tr>\n",
       "    <tr>\n",
       "      <th>17</th>\n",
       "      <td>6B4F7A0165B9</td>\n",
       "      <td>1.622644e+12</td>\n",
       "      <td>727.0</td>\n",
       "      <td>1244.0</td>\n",
       "      <td>The most common of these distractions is a cel...</td>\n",
       "      <td>Evidence</td>\n",
       "      <td>Evidence 1</td>\n",
       "      <td>125 126 127 128 129 130 131 132 133 134 135 13...</td>\n",
       "    </tr>\n",
       "    <tr>\n",
       "      <th>18</th>\n",
       "      <td>6B4F7A0165B9</td>\n",
       "      <td>1.622644e+12</td>\n",
       "      <td>1245.0</td>\n",
       "      <td>1439.0</td>\n",
       "      <td>Conversely people may believe that laws in pre...</td>\n",
       "      <td>Counterclaim</td>\n",
       "      <td>Counterclaim 1</td>\n",
       "      <td>221 222 223 224 225 226 227 228 229 230 231 23...</td>\n",
       "    </tr>\n",
       "    <tr>\n",
       "      <th>19</th>\n",
       "      <td>6B4F7A0165B9</td>\n",
       "      <td>1.622644e+12</td>\n",
       "      <td>1440.0</td>\n",
       "      <td>1681.0</td>\n",
       "      <td>The problem becomes apparent that this is a se...</td>\n",
       "      <td>Rebuttal</td>\n",
       "      <td>Rebuttal 1</td>\n",
       "      <td>254 255 256 257 258 259 260 261 262 263 264 26...</td>\n",
       "    </tr>\n",
       "  </tbody>\n",
       "</table>\n",
       "</div>"
      ],
      "text/plain": [
       "              id  discourse_id  discourse_start  discourse_end  \\\n",
       "10  A8445CABFECE  1.622576e+12             18.0           85.0   \n",
       "11  A8445CABFECE  1.622576e+12             86.0          202.0   \n",
       "12  A8445CABFECE  1.622576e+12            203.0         1030.0   \n",
       "13  A8445CABFECE  1.622576e+12           1031.0         1243.0   \n",
       "14  6B4F7A0165B9  1.622644e+12             36.0          512.0   \n",
       "15  6B4F7A0165B9  1.622644e+12            513.0          593.0   \n",
       "16  6B4F7A0165B9  1.622644e+12            594.0          726.0   \n",
       "17  6B4F7A0165B9  1.622644e+12            727.0         1244.0   \n",
       "18  6B4F7A0165B9  1.622644e+12           1245.0         1439.0   \n",
       "19  6B4F7A0165B9  1.622644e+12           1440.0         1681.0   \n",
       "\n",
       "                                       discourse_text        discourse_type  \\\n",
       "10  Drivers should not be able to use phones while...              Position   \n",
       "11  Drivers who used their phone while operating a...                 Claim   \n",
       "12  According to an article by the Edgar Snyder Fi...              Evidence   \n",
       "13  In conclusion, drivers should not able to work...  Concluding Statement   \n",
       "14  The ability to stay connected to people we kno...                  Lead   \n",
       "15   However, this device is taken to areas that i...              Position   \n",
       "16  Within a vehicle capable of traveling upwards ...                 Claim   \n",
       "17  The most common of these distractions is a cel...              Evidence   \n",
       "18  Conversely people may believe that laws in pre...          Counterclaim   \n",
       "19  The problem becomes apparent that this is a se...              Rebuttal   \n",
       "\n",
       "        discourse_type_num                                   predictionstring  \n",
       "10              Position 1                       3 4 5 6 7 8 9 10 11 12 13 14  \n",
       "11                 Claim 1  15 16 17 18 19 20 21 22 23 24 25 26 27 28 29 3...  \n",
       "12              Evidence 1  36 37 38 39 40 41 42 43 44 45 46 47 48 49 50 5...  \n",
       "13  Concluding Statement 1  177 178 179 180 181 182 183 184 185 186 187 18...  \n",
       "14                  Lead 1  5 6 7 8 9 10 11 12 13 14 15 16 17 18 19 20 21 ...  \n",
       "15              Position 1        92 93 94 95 96 97 98 99 100 101 102 103 104  \n",
       "16                 Claim 1  105 106 107 108 109 110 111 112 113 114 115 11...  \n",
       "17              Evidence 1  125 126 127 128 129 130 131 132 133 134 135 13...  \n",
       "18          Counterclaim 1  221 222 223 224 225 226 227 228 229 230 231 23...  \n",
       "19              Rebuttal 1  254 255 256 257 258 259 260 261 262 263 264 26...  "
      ]
     },
     "execution_count": 107,
     "metadata": {},
     "output_type": "execute_result"
    }
   ],
   "source": [
    "\n",
    "train_csv[10:20]"
   ]
  },
  {
   "cell_type": "code",
   "execution_count": 70,
   "id": "af18e402",
   "metadata": {},
   "outputs": [
    {
     "data": {
      "text/plain": [
       "count     144293\n",
       "unique         7\n",
       "top        Claim\n",
       "freq       50208\n",
       "Name: discourse_type, dtype: object"
      ]
     },
     "execution_count": 70,
     "metadata": {},
     "output_type": "execute_result"
    }
   ],
   "source": [
    "train_csv.discourse_type.describe(include='all')"
   ]
  },
  {
   "cell_type": "code",
   "execution_count": 156,
   "id": "762fe748",
   "metadata": {},
   "outputs": [],
   "source": [
    "def creation_count(train_csv):\n",
    "    # list of counters\n",
    "    lead_counts = Counter()\n",
    "    position_counts = Counter()\n",
    "    claim_counts = Counter()\n",
    "    counterclaim_counts = Counter()\n",
    "    rebuttal_counts = Counter()\n",
    "    evidence_counts = Counter()\n",
    "    conclustate_counts = Counter()\n",
    "\n",
    "    for i in range(len(train_csv.discourse_id)):\n",
    "        text = train_csv.discourse_text[i]\n",
    "        text = text.split(' ')\n",
    "        if train_csv.discourse_type[i] == 'Lead':\n",
    "            for words_ind in range(len(text)):\n",
    "                lead_counts[text[words_ind-1]] += 1\n",
    "\n",
    "        elif train_csv.discourse_type[i] == 'Position':\n",
    "            for words_ind in range(len(text)):\n",
    "                position_counts[text[words_ind-1]] += 1\n",
    "            \n",
    "        elif train_csv.discourse_type[i] == 'Claim':\n",
    "            for words_ind in range(len(text)):\n",
    "                claim_counts[text[words_ind-1]] += 1\n",
    "\n",
    "        elif train_csv.discourse_type[i] == 'Counterclaim':\n",
    "            for words_ind in range(len(text)):\n",
    "                counterclaim_counts[text[words_ind-1]] += 1\n",
    "\n",
    "        elif train_csv.discourse_type[i] == 'Rebuttal':\n",
    "            for words_ind in range(len(text)):\n",
    "                rebuttal_counts[text[words_ind-1]] += 1\n",
    "\n",
    "        elif train_csv.discourse_type[i] == 'Evidence':\n",
    "            for words_ind in range(len(text)):\n",
    "                evidence_counts[text[words_ind-1]] += 1\n",
    "\n",
    "        elif train_csv.discourse_type[i] == 'Concluding Statement':\n",
    "            for words_ind in range(len(text)):\n",
    "                conclustate_counts[text[words_ind-1]] += 1\n",
    "    \n",
    "    return lead_counts, position_counts, claim_counts, counterclaim_counts, rebuttal_counts, evidence_counts, conclustate_counts\n"
   ]
  },
  {
   "cell_type": "code",
   "execution_count": 158,
   "id": "c6439006",
   "metadata": {},
   "outputs": [],
   "source": [
    "lead_counts, position_counts, claim_counts, counterclaim_counts, rebuttal_counts, evidence_counts, conclustate_counts = creation_count(train_csv)"
   ]
  },
  {
   "cell_type": "code",
   "execution_count": null,
   "id": "74d14ee2",
   "metadata": {},
   "outputs": [],
   "source": []
  }
 ],
 "metadata": {
  "kernelspec": {
   "display_name": "Python 3",
   "language": "python",
   "name": "python3"
  },
  "language_info": {
   "codemirror_mode": {
    "name": "ipython",
    "version": 3
   },
   "file_extension": ".py",
   "mimetype": "text/x-python",
   "name": "python",
   "nbconvert_exporter": "python",
   "pygments_lexer": "ipython3",
   "version": "3.9.7"
  }
 },
 "nbformat": 4,
 "nbformat_minor": 5
}
